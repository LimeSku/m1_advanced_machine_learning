{
 "cells": [
  {
   "cell_type": "markdown",
   "metadata": {},
   "source": [
    "### TRANSFER LEARNING LECTURE NOTES"
   ]
  },
  {
   "cell_type": "code",
   "execution_count": null,
   "metadata": {},
   "outputs": [
    {
     "name": "stdout",
     "output_type": "stream",
     "text": [
      "\u001b[1m1/1\u001b[0m \u001b[32m━━━━━━━━━━━━━━━━━━━━\u001b[0m\u001b[37m\u001b[0m \u001b[1m2s\u001b[0m 2s/step\n",
      "Downloading data from https://storage.googleapis.com/download.tensorflow.org/data/imagenet_class_index.json\n",
      "\u001b[1m35363/35363\u001b[0m \u001b[32m━━━━━━━━━━━━━━━━━━━━\u001b[0m\u001b[37m\u001b[0m \u001b[1m0s\u001b[0m 0us/step\n",
      "Predicted: African_elephant with probability 0.7037\n",
      "Predicted: tusker with probability 0.1986\n",
      "Predicted: Indian_elephant with probability 0.0977\n"
     ]
    }
   ],
   "source": [
    "import numpy as np\n",
    "from tensorflow.keras.applications.resnet50 import ResNet50, preprocess_input, decode_predictions\n",
    "from tensorflow.keras.preprocessing import image\n",
    "\n",
    "# Load the ResNet50 model pre-trained on ImageNet\n",
    "model = ResNet50(weights='imagenet')\n",
    "\n",
    "# Function to classify an image\n",
    "def classify_image(img_path):\n",
    "    \n",
    "    \n",
    "    # Load the image with the target size of 224x224\n",
    "    img = image.load_img(img_path, target_size=(224, 224))\n",
    "    # Convert the image to a numpy array\n",
    "    img_array = image.img_to_array(img)\n",
    "    \n",
    "    \n",
    "    # Expand dimensions to match the shape the model expects\n",
    "    img_array = np.expand_dims(img_array, axis=0) \n",
    "    # shape=(1, 224, 224, 3) because we have one image , why ? because the model expects a batch of images\n",
    "    \n",
    "    \n",
    "    # Preprocess the image\n",
    "    img_array = preprocess_input(img_array) # example: normalize the image\n",
    "    # Make predictions\n",
    "    preds = model.predict(img_array)\n",
    "    # Decode the predictions\n",
    "    decoded_preds = decode_predictions(preds, top=3)[0]\n",
    "    return decoded_preds\n",
    "\n",
    "# Example usage\n",
    "img_path = 'elephant.jpg'\n",
    "predictions = classify_image(img_path)\n",
    "for pred in predictions:\n",
    "    print(f\"Predicted: {pred[1]} with probability {pred[2]:.4f}\")"
   ]
  },
  {
   "cell_type": "markdown",
   "metadata": {},
   "source": [
    "Now we fine-tune the model to classify the images of the new dataset.\n",
    "\n",
    "Fine-tuning is the process of training the pre-trained model on a new dataset to improve performance.\n",
    "\n",
    "We take the output of the last layer of the base model and pass it to a new model with the same architecture but with a new output layer.\n",
    "\n",
    "The convolution to MLP (Multi-Layer Perceptron) bridge is done by the flatten layer, which converts the feature map to a vector.\n",
    "\n",
    "Alternatively, we can use the global average pooling layer, which reduces the spatial dimensions of the feature map to a single value."
   ]
  },
  {
   "cell_type": "code",
   "execution_count": null,
   "metadata": {},
   "outputs": [],
   "source": [
    "from tensorflow.keras.layers import Dense, GlobalAveragePooling2D\n",
    "from tensorflow.keras.models import Model\n",
    "\n",
    "base_model = ResNet50(weights='imagenet', include_top=False) # load the ResNet50 model without the top layer\n",
    "\n",
    "# add a global average pooling layer \n",
    "x = base_model.output\n",
    "x = GlobalAveragePooling2D()(x) # reduce the spatial dimensions of the feature map to a single value\n",
    "x = Dense(1024, activation='relu')(x) # add a fully connected layer\n",
    "\n",
    "# Add a logistic layer with 200 classes\n",
    "predictions = Dense(200, activation='softmax')(x)\n",
    "\n",
    "model = Model(inputs=base_model.input, outputs=predictions)"
   ]
  },
  {
   "cell_type": "code",
   "execution_count": null,
   "metadata": {},
   "outputs": [],
   "source": [
    "\n",
    "# with the sequential way we can add layers one by one : \n",
    "\n",
    "from tensorflow.keras.models import Sequential\n",
    "from tensorflow.keras.layers import Flatten, Dense\n",
    "\n",
    "base_model = ResNet50(weights='imagenet', include_top=False) # load the ResNet50 model without the top layer\n",
    "\n",
    "model = Sequential()\n",
    "model.add(base_model)\n",
    "model.add(GlobalAveragePooling2D())\n",
    "model.add(Dense(1024, activation='relu'))\n",
    "model.add(Dense(200, activation='softmax'))\n",
    "\n",
    "# Freeze the base model (the first 175 layers)\n",
    "for layer in base_model.layers[:175]:\n",
    "    layer.trainable = False\n",
    "\n",
    "# Compile the model\n",
    "model.compile(optimizer='rmsprop', loss='categorical_crossentropy', metrics=['accuracy'])\n",
    "\n",
    "# train the model\n",
    "model.fit(X_train, y_train, epochs=10, validation_data=(X_val, y_val))\n",
    "\n"
   ]
  },
  {
   "cell_type": "markdown",
   "metadata": {},
   "source": []
  }
 ],
 "metadata": {
  "kernelspec": {
   "display_name": "nolan_env",
   "language": "python",
   "name": "python3"
  },
  "language_info": {
   "codemirror_mode": {
    "name": "ipython",
    "version": 3
   },
   "file_extension": ".py",
   "mimetype": "text/x-python",
   "name": "python",
   "nbconvert_exporter": "python",
   "pygments_lexer": "ipython3",
   "version": "3.12.8"
  }
 },
 "nbformat": 4,
 "nbformat_minor": 2
}
